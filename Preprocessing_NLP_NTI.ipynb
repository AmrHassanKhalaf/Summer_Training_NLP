{
  "nbformat": 4,
  "nbformat_minor": 0,
  "metadata": {
    "colab": {
      "provenance": [],
      "authorship_tag": "ABX9TyMsLNL8DPaRBm9GVTJGoWjZ",
      "include_colab_link": true
    },
    "kernelspec": {
      "name": "python3",
      "display_name": "Python 3"
    },
    "language_info": {
      "name": "python"
    }
  },
  "cells": [
    {
      "cell_type": "markdown",
      "metadata": {
        "id": "view-in-github",
        "colab_type": "text"
      },
      "source": [
        "<a href=\"https://colab.research.google.com/github/AmrHassanKhalaf/Summer_Training_NLP/blob/main/Preprocessing_NLP_NTI.ipynb\" target=\"_parent\"><img src=\"https://colab.research.google.com/assets/colab-badge.svg\" alt=\"Open In Colab\"/></a>"
      ]
    },
    {
      "cell_type": "code",
      "execution_count": null,
      "metadata": {
        "id": "fe4TqM8rrZKA"
      },
      "outputs": [],
      "source": [
        "import re\n",
        "import nltk"
      ]
    },
    {
      "cell_type": "code",
      "source": [
        "nltk.download('punkt')"
      ],
      "metadata": {
        "colab": {
          "base_uri": "https://localhost:8080/"
        },
        "id": "wMDcrVzjrcNJ",
        "outputId": "4fa16d44-9126-4724-e76c-0abdd6fed53d"
      },
      "execution_count": null,
      "outputs": [
        {
          "output_type": "stream",
          "name": "stderr",
          "text": [
            "[nltk_data] Downloading package punkt to /root/nltk_data...\n",
            "[nltk_data]   Package punkt is already up-to-date!\n"
          ]
        }
      ]
    },
    {
      "cell_type": "code",
      "source": [
        "text = \"\"\"في عام 2025، وصل عدد مستخدمي الإنترنت في العالم العربي إلى أكثر من 200 مليون مستخدم 🌍📱. وتشير التقارير إلى أن 65% من هؤلاء يستخدمون الهواتف الذكية يوميًا بمعدل 4-6 ساعات⌚، بينما يقضي البعض أكثر من 10 ساعات أمام الشاشات 😮. ومع تزايد الاعتماد على التكنولوجيا، ظهرت تحديات جديدة مثل الإدمان الرقمي، ضعف الخصوصية، والاحتيال الإلكتروني 🔐💻.\"\"\"\n",
        "print(text)\n"
      ],
      "metadata": {
        "colab": {
          "base_uri": "https://localhost:8080/"
        },
        "id": "tEheCFhsrgB-",
        "outputId": "85fb6881-d1e1-4d16-bb1b-8975df3d56cb"
      },
      "execution_count": null,
      "outputs": [
        {
          "output_type": "stream",
          "name": "stdout",
          "text": [
            "في عام 2025، وصل عدد مستخدمي الإنترنت في العالم العربي إلى أكثر من 200 مليون مستخدم 🌍📱. وتشير التقارير إلى أن 65% من هؤلاء يستخدمون الهواتف الذكية يوميًا بمعدل 4-6 ساعات⌚، بينما يقضي البعض أكثر من 10 ساعات أمام الشاشات 😮. ومع تزايد الاعتماد على التكنولوجيا، ظهرت تحديات جديدة مثل الإدمان الرقمي، ضعف الخصوصية، والاحتيال الإلكتروني 🔐💻.\n"
          ]
        }
      ]
    },
    {
      "cell_type": "code",
      "source": [
        "def preprocess(text):\n",
        "    text = re.sub(r'[^\\w\\s]', '', text)\n",
        "    text = re.sub(r'\\d+', '', text)\n",
        "    text = re.sub(r'\\s+', ' ', text).strip()\n",
        "    return text"
      ],
      "metadata": {
        "id": "3l6fbcFIrmFt"
      },
      "execution_count": null,
      "outputs": []
    },
    {
      "cell_type": "code",
      "source": [
        "clean_text = preprocess(text)\n",
        "print(clean_text)"
      ],
      "metadata": {
        "colab": {
          "base_uri": "https://localhost:8080/"
        },
        "id": "2eGA_oSDroNw",
        "outputId": "b442b7e3-3858-4116-da0e-74af803de0c0"
      },
      "execution_count": null,
      "outputs": [
        {
          "output_type": "stream",
          "name": "stdout",
          "text": [
            "في عام وصل عدد مستخدمي الإنترنت في العالم العربي إلى أكثر من مليون مستخدم وتشير التقارير إلى أن من هؤلاء يستخدمون الهواتف الذكية يوميا بمعدل ساعات بينما يقضي البعض أكثر من ساعات أمام الشاشات ومع تزايد الاعتماد على التكنولوجيا ظهرت تحديات جديدة مثل الإدمان الرقمي ضعف الخصوصية والاحتيال الإلكتروني\n"
          ]
        }
      ]
    },
    {
      "cell_type": "code",
      "source": [
        "from nltk.tokenize import word_tokenize"
      ],
      "metadata": {
        "id": "sZzICcJZsCM8"
      },
      "execution_count": null,
      "outputs": []
    },
    {
      "cell_type": "code",
      "source": [
        "tokens = word_tokenize(clean_text)\n",
        "print(tokens)"
      ],
      "metadata": {
        "colab": {
          "base_uri": "https://localhost:8080/"
        },
        "id": "HlMCFeOLr23E",
        "outputId": "00a74a47-ae25-469f-8c68-2069e6f3d879"
      },
      "execution_count": null,
      "outputs": [
        {
          "output_type": "stream",
          "name": "stdout",
          "text": [
            "['في', 'عام', 'وصل', 'عدد', 'مستخدمي', 'الإنترنت', 'في', 'العالم', 'العربي', 'إلى', 'أكثر', 'من', 'مليون', 'مستخدم', 'وتشير', 'التقارير', 'إلى', 'أن', 'من', 'هؤلاء', 'يستخدمون', 'الهواتف', 'الذكية', 'يوميا', 'بمعدل', 'ساعات', 'بينما', 'يقضي', 'البعض', 'أكثر', 'من', 'ساعات', 'أمام', 'الشاشات', 'ومع', 'تزايد', 'الاعتماد', 'على', 'التكنولوجيا', 'ظهرت', 'تحديات', 'جديدة', 'مثل', 'الإدمان', 'الرقمي', 'ضعف', 'الخصوصية', 'والاحتيال', 'الإلكتروني']\n"
          ]
        }
      ]
    },
    {
      "cell_type": "code",
      "source": [
        "nltk.download('stopwords')"
      ],
      "metadata": {
        "colab": {
          "base_uri": "https://localhost:8080/"
        },
        "id": "bzAKPfEUuXhS",
        "outputId": "71813aa1-c6a1-4918-9fda-53723bdc6d38"
      },
      "execution_count": null,
      "outputs": [
        {
          "output_type": "stream",
          "name": "stderr",
          "text": [
            "[nltk_data] Downloading package stopwords to /root/nltk_data...\n",
            "[nltk_data]   Unzipping corpora/stopwords.zip.\n"
          ]
        },
        {
          "output_type": "execute_result",
          "data": {
            "text/plain": [
              "True"
            ]
          },
          "metadata": {},
          "execution_count": 21
        }
      ]
    },
    {
      "cell_type": "code",
      "source": [
        "from nltk.corpus import stopwords"
      ],
      "metadata": {
        "id": "239o6fIsuCWU"
      },
      "execution_count": null,
      "outputs": []
    },
    {
      "cell_type": "code",
      "source": [
        "stopword= set(stopwords.words('arabic'))"
      ],
      "metadata": {
        "id": "-GiUaGEHuGh0"
      },
      "execution_count": null,
      "outputs": []
    },
    {
      "cell_type": "code",
      "source": [
        "new_words = []\n",
        "for i in tokens:\n",
        "    if i not in stopword:\n",
        "        new_words.append(i)"
      ],
      "metadata": {
        "id": "heMnEg9euIYN"
      },
      "execution_count": null,
      "outputs": []
    },
    {
      "cell_type": "code",
      "source": [
        "print(new_words)"
      ],
      "metadata": {
        "colab": {
          "base_uri": "https://localhost:8080/"
        },
        "id": "Xnk78mkXulR6",
        "outputId": "fbac3717-d74d-407a-ab65-69ca41e6d5d4"
      },
      "execution_count": null,
      "outputs": [
        {
          "output_type": "stream",
          "name": "stdout",
          "text": [
            "['عام', 'وصل', 'عدد', 'مستخدمي', 'الإنترنت', 'العالم', 'العربي', 'مليون', 'مستخدم', 'وتشير', 'التقارير', 'يستخدمون', 'الهواتف', 'الذكية', 'يوميا', 'بمعدل', 'ساعات', 'بينما', 'يقضي', 'البعض', 'ساعات', 'الشاشات', 'ومع', 'تزايد', 'الاعتماد', 'التكنولوجيا', 'ظهرت', 'تحديات', 'جديدة', 'الإدمان', 'الرقمي', 'ضعف', 'الخصوصية', 'والاحتيال', 'الإلكتروني']\n"
          ]
        }
      ]
    },
    {
      "cell_type": "code",
      "source": [],
      "metadata": {
        "id": "U_zqXvNnuoaq"
      },
      "execution_count": null,
      "outputs": []
    }
  ]
}