{
  "nbformat": 4,
  "nbformat_minor": 0,
  "metadata": {
    "colab": {
      "provenance": [],
      "authorship_tag": "ABX9TyP6VmIUDRl2HLLzRpWAf/ji",
      "include_colab_link": true
    },
    "kernelspec": {
      "name": "python3",
      "display_name": "Python 3"
    },
    "language_info": {
      "name": "python"
    }
  },
  "cells": [
    {
      "cell_type": "markdown",
      "metadata": {
        "id": "view-in-github",
        "colab_type": "text"
      },
      "source": [
        "<a href=\"https://colab.research.google.com/github/AmrHassanKhalaf/Summer_Training_NLP/blob/main/Sec_3/Task_2/Sec_3_T_2.ipynb\" target=\"_parent\"><img src=\"https://colab.research.google.com/assets/colab-badge.svg\" alt=\"Open In Colab\"/></a>"
      ]
    },
    {
      "cell_type": "markdown",
      "source": [
        "# Preprocessing on this text, remove stopwords, Tokenization, Lemmatization"
      ],
      "metadata": {
        "id": "5tRPr8M1-bbA"
      }
    },
    {
      "cell_type": "code",
      "execution_count": 12,
      "metadata": {
        "id": "StgFiPlu8Jnb"
      },
      "outputs": [],
      "source": [
        "import re\n",
        "import nltk\n",
        "from nltk.corpus import stopwords\n",
        "from nltk.stem.isri import ISRIStemmer"
      ]
    },
    {
      "cell_type": "code",
      "source": [
        "nltk.download(\"stopwords\")\n",
        "nltk.download(\"punkt\")\n",
        "nltk.download(\"punkt_tab\")"
      ],
      "metadata": {
        "colab": {
          "base_uri": "https://localhost:8080/"
        },
        "id": "cF8msF948lvV",
        "outputId": "c727fc0f-3408-4b4d-8b9b-72bbf201851a"
      },
      "execution_count": 13,
      "outputs": [
        {
          "output_type": "stream",
          "name": "stderr",
          "text": [
            "[nltk_data] Downloading package stopwords to /root/nltk_data...\n",
            "[nltk_data]   Package stopwords is already up-to-date!\n",
            "[nltk_data] Downloading package punkt to /root/nltk_data...\n",
            "[nltk_data]   Package punkt is already up-to-date!\n",
            "[nltk_data] Downloading package punkt_tab to /root/nltk_data...\n",
            "[nltk_data]   Package punkt_tab is already up-to-date!\n"
          ]
        },
        {
          "output_type": "execute_result",
          "data": {
            "text/plain": [
              "True"
            ]
          },
          "metadata": {},
          "execution_count": 13
        }
      ]
    },
    {
      "cell_type": "code",
      "source": [
        "EXAMPLE_TEXT = \"\"\"\n",
        "أبو عبد الله محمد بن موسى الخوارزمي عالم رياضيات وفلك\n",
        "وجغرافيا مسلم. يكنى باسم الخوارزمي وأبي جعفر. قيل أنه ولد حوالي 164هـ 781م (وهو غير مؤكد) وقيل أنه توفي بعد 232هـ أي (بعد 847م). يعتبر\n",
        "من أوائل علماء الرياضيات المسلمين حيث ساهمت أعماله بدور كبير في تقدم الرياضيات في عصره. اتصل بالخليفة العباسي المأمون وعمل في بيت الحكمة في\n",
        "بغداد وكسب ثقة الخليفة إذ ولاه المأمون بيت الحكمة كما عهد إليه برسم خارطة للأرض عمل فيها أكثر من سبعين جغرافيا. قبل وفاته في 850 م/232 هـ\n",
        "كان الخوارزمي قد ترك العديد من المؤلفات في علوم الرياضيات والفلك والجغرافيا ومن أهمها\n",
        "\"\"\""
      ],
      "metadata": {
        "id": "vBk5oyy88peD"
      },
      "execution_count": 14,
      "outputs": []
    },
    {
      "cell_type": "code",
      "source": [
        "def clean_text(text):\n",
        "    text = re.sub(r\"[^\\w\\s]\", \" \", text)\n",
        "    text = re.sub(r\"\\d+\", \" \", text)\n",
        "    return text"
      ],
      "metadata": {
        "id": "bAUZzgEq8ui0"
      },
      "execution_count": 15,
      "outputs": []
    },
    {
      "cell_type": "code",
      "source": [
        "cleaning = clean_text(EXAMPLE_TEXT)"
      ],
      "metadata": {
        "id": "i7QJVo6-84Yn"
      },
      "execution_count": 16,
      "outputs": []
    },
    {
      "cell_type": "code",
      "source": [
        "print(cleaning)"
      ],
      "metadata": {
        "colab": {
          "base_uri": "https://localhost:8080/"
        },
        "id": "jXklXibE-AxI",
        "outputId": "1fab9c69-9ad8-4612-93e4-54f86c184376"
      },
      "execution_count": 25,
      "outputs": [
        {
          "output_type": "stream",
          "name": "stdout",
          "text": [
            "\n",
            "أبو عبد الله محمد بن موسى الخوارزمي عالم رياضيات وفلك\n",
            "وجغرافيا مسلم  يكنى باسم الخوارزمي وأبي جعفر  قيل أنه ولد حوالي  هـ  م  وهو غير مؤكد  وقيل أنه توفي بعد  هـ أي  بعد  م   يعتبر\n",
            "من أوائل علماء الرياضيات المسلمين حيث ساهمت أعماله بدور كبير في تقدم الرياضيات في عصره  اتصل بالخليفة العباسي المأمون وعمل في بيت الحكمة في\n",
            "بغداد وكسب ثقة الخليفة إذ ولاه المأمون بيت الحكمة كما عهد إليه برسم خارطة للأرض عمل فيها أكثر من سبعين جغرافيا  قبل وفاته في   م   هـ\n",
            "كان الخوارزمي قد ترك العديد من المؤلفات في علوم الرياضيات والفلك والجغرافيا ومن أهمها\n",
            "\n"
          ]
        }
      ]
    },
    {
      "cell_type": "code",
      "source": [
        "tokens = nltk.word_tokenize(cleaning)"
      ],
      "metadata": {
        "id": "vzdwbtj_87Iq"
      },
      "execution_count": 18,
      "outputs": []
    },
    {
      "cell_type": "code",
      "source": [
        "print(tokens)"
      ],
      "metadata": {
        "colab": {
          "base_uri": "https://localhost:8080/"
        },
        "id": "RksKI_Lz-EPG",
        "outputId": "f099ff62-7fbb-4358-f2f6-9a9263c25d59"
      },
      "execution_count": 26,
      "outputs": [
        {
          "output_type": "stream",
          "name": "stdout",
          "text": [
            "['عبد', 'الله', 'محمد', 'بن', 'موسى', 'الخوارزمي', 'عالم', 'رياضيات', 'وفلك', 'وجغرافيا', 'مسلم', 'يكنى', 'باسم', 'الخوارزمي', 'وأبي', 'جعفر', 'قيل', 'أنه', 'ولد', 'حوالي', 'هـ', 'مؤكد', 'وقيل', 'أنه', 'توفي', 'هـ', 'يعتبر', 'أوائل', 'علماء', 'الرياضيات', 'المسلمين', 'ساهمت', 'أعماله', 'بدور', 'كبير', 'تقدم', 'الرياضيات', 'عصره', 'اتصل', 'بالخليفة', 'العباسي', 'المأمون', 'وعمل', 'بيت', 'الحكمة', 'بغداد', 'وكسب', 'ثقة', 'الخليفة', 'ولاه', 'المأمون', 'بيت', 'الحكمة', 'عهد', 'إليه', 'برسم', 'خارطة', 'للأرض', 'عمل', 'سبعين', 'جغرافيا', 'وفاته', 'هـ', 'الخوارزمي', 'العديد', 'المؤلفات', 'علوم', 'الرياضيات', 'والفلك', 'والجغرافيا', 'أهمها']\n"
          ]
        }
      ]
    },
    {
      "cell_type": "code",
      "source": [
        "arabic_stopwords = set(stopwords.words(\"arabic\"))\n",
        "filtered = [word for word in tokens if word not in arabic_stopwords]"
      ],
      "metadata": {
        "id": "1xS5mZLe9Bnj"
      },
      "execution_count": 23,
      "outputs": []
    },
    {
      "cell_type": "code",
      "source": [
        "print(filtered)"
      ],
      "metadata": {
        "colab": {
          "base_uri": "https://localhost:8080/"
        },
        "id": "Hqhpl4ub-HNm",
        "outputId": "b1836a47-b2e5-4edb-8645-c9cd86cfea53"
      },
      "execution_count": 27,
      "outputs": [
        {
          "output_type": "stream",
          "name": "stdout",
          "text": [
            "['عبد', 'الله', 'محمد', 'بن', 'موسى', 'الخوارزمي', 'عالم', 'رياضيات', 'وفلك', 'وجغرافيا', 'مسلم', 'يكنى', 'باسم', 'الخوارزمي', 'وأبي', 'جعفر', 'قيل', 'أنه', 'ولد', 'حوالي', 'هـ', 'مؤكد', 'وقيل', 'أنه', 'توفي', 'هـ', 'يعتبر', 'أوائل', 'علماء', 'الرياضيات', 'المسلمين', 'ساهمت', 'أعماله', 'بدور', 'كبير', 'تقدم', 'الرياضيات', 'عصره', 'اتصل', 'بالخليفة', 'العباسي', 'المأمون', 'وعمل', 'بيت', 'الحكمة', 'بغداد', 'وكسب', 'ثقة', 'الخليفة', 'ولاه', 'المأمون', 'بيت', 'الحكمة', 'عهد', 'إليه', 'برسم', 'خارطة', 'للأرض', 'عمل', 'جغرافيا', 'وفاته', 'هـ', 'الخوارزمي', 'العديد', 'المؤلفات', 'علوم', 'الرياضيات', 'والفلك', 'والجغرافيا', 'أهمها']\n"
          ]
        }
      ]
    },
    {
      "cell_type": "code",
      "source": [
        "stemmer = ISRIStemmer()\n",
        "lemmatized = [stemmer.stem(word) for word in filtered]"
      ],
      "metadata": {
        "id": "slvs5-pk9bMe"
      },
      "execution_count": 24,
      "outputs": []
    },
    {
      "cell_type": "code",
      "source": [
        "print(lemmatized)"
      ],
      "metadata": {
        "colab": {
          "base_uri": "https://localhost:8080/"
        },
        "id": "RksTVYYD-Ocp",
        "outputId": "abbb2df4-c2ee-4b1f-a23f-7ee5d10ec44b"
      },
      "execution_count": 29,
      "outputs": [
        {
          "output_type": "stream",
          "name": "stdout",
          "text": [
            "['عبد', 'الل', 'حمد', 'بن', 'وسى', 'خوارزم', 'علم', 'ريض', 'وفل', 'جغراف', 'سلم', 'كنى', 'بسم', 'خوارزم', 'وأب', 'جعفر', 'قيل', 'انه', 'ولد', 'حلي', 'هـ', 'ؤكد', 'وقل', 'انه', 'توف', 'هـ', 'عبر', 'وئل', 'علماء', 'ريض', 'سلم', 'سهم', 'عمل', 'بدر', 'كبر', 'قدم', 'ريض', 'عصر', 'تصل', 'خلف', 'عبس', 'مأم', 'عمل', 'بيت', 'حكم', 'غدد', 'كسب', 'ثقة', 'خلف', 'وله', 'مأم', 'بيت', 'حكم', 'عهد', 'اله', 'رسم', 'خرط', 'ارض', 'عمل', 'جغراف', 'وفت', 'هـ', 'خوارزم', 'عدد', 'ؤلف', 'علم', 'ريض', 'فلك', 'جغراف', 'اهم']\n"
          ]
        }
      ]
    }
  ]
}