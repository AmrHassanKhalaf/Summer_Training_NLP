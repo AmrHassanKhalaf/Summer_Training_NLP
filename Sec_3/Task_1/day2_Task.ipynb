{
  "nbformat": 4,
  "nbformat_minor": 0,
  "metadata": {
    "colab": {
      "provenance": [],
      "include_colab_link": true
    },
    "kernelspec": {
      "name": "python3",
      "display_name": "Python 3"
    },
    "language_info": {
      "name": "python"
    }
  },
  "cells": [
    {
      "cell_type": "markdown",
      "metadata": {
        "id": "view-in-github",
        "colab_type": "text"
      },
      "source": [
        "<a href=\"https://colab.research.google.com/github/AmrHassanKhalaf/Summer_Training_NLP/blob/main/Sec_3/Task_1/day2_Task.ipynb\" target=\"_parent\"><img src=\"https://colab.research.google.com/assets/colab-badge.svg\" alt=\"Open In Colab\"/></a>"
      ]
    },
    {
      "cell_type": "code",
      "execution_count": 9,
      "metadata": {
        "id": "RQg_2b1amdMY",
        "outputId": "fa8ef0da-cac0-4f5e-bce6-cfc044f7b8bf",
        "colab": {
          "base_uri": "https://localhost:8080/"
        }
      },
      "outputs": [
        {
          "output_type": "stream",
          "name": "stdout",
          "text": [
            "['3', '14', '1']\n"
          ]
        }
      ],
      "source": [
        "import re\n",
        "#Extract all the numbers.\n",
        "text1 = \"There are 3 cats, 14 dogs, and 1 turtle in the house.\"\n",
        "numbers = r'\\d+'\n",
        "number = re.findall(numbers, text1)\n",
        "print(number)"
      ]
    },
    {
      "cell_type": "code",
      "source": [
        "#Extract all valid emails.\n",
        "text2 = \"Send emails to: user1@gmail.com, support@company.org, and fake@.com\"\n",
        "emails = r'\\b[A-Za-z0-9._%+-]+@[A-Za-z0-9.-]+\\.[A-Z|a-z]{2,}\\b'\n",
        "email = re.findall(emails, text2)\n",
        "print(email)"
      ],
      "metadata": {
        "id": "IQ3FCFa2mj33",
        "outputId": "95ba63be-513e-4fad-cbd3-383cad42950f",
        "colab": {
          "base_uri": "https://localhost:8080/"
        }
      },
      "execution_count": 8,
      "outputs": [
        {
          "output_type": "stream",
          "name": "stdout",
          "text": [
            "['user1@gmail.com', 'support@company.org']\n"
          ]
        }
      ]
    },
    {
      "cell_type": "code",
      "source": [
        "#Extract valid Egyptian mobile numbers (starting with 010, 011, 012, 015).\n",
        "text3 = \"Contact us at 01012345678 or 01599999999 or 01987654321 or 010-20541078\"\n",
        "numbers = r'01[0125][0-9]{8}'\n",
        "mobile_num = re.findall(numbers, text3)\n",
        "print(mobile_num)"
      ],
      "metadata": {
        "id": "cqsOWlr_mj1P",
        "outputId": "5be7eda4-825f-47e7-9eee-a1f0cc7ad0c9",
        "colab": {
          "base_uri": "https://localhost:8080/"
        }
      },
      "execution_count": 7,
      "outputs": [
        {
          "output_type": "stream",
          "name": "stdout",
          "text": [
            "['01012345678', '01599999999']\n"
          ]
        }
      ]
    },
    {
      "cell_type": "code",
      "source": [
        "#Remove all punctuation and print the clean text.\n",
        "text4 = \"Hello, world! Let's clean this: text. Right?\"\n",
        "clean_text = r'[^\\w\\s]'\n",
        "text = re.sub(clean_text, '', text4)\n",
        "print(text)"
      ],
      "metadata": {
        "id": "NTLrR4gnmjyq",
        "outputId": "80bfa5ff-a51d-4910-e33e-912d5c3f4952",
        "colab": {
          "base_uri": "https://localhost:8080/"
        }
      },
      "execution_count": 6,
      "outputs": [
        {
          "output_type": "stream",
          "name": "stdout",
          "text": [
            "Hello world Lets clean this text Right\n"
          ]
        }
      ]
    },
    {
      "cell_type": "code",
      "source": [
        "#Extract all hashtags.\n",
        "text5 = \"Follow us for #updates, #PythonTips and #100DaysOfCode!\"\n",
        "hash_t= r'#\\w+'\n",
        "hashtag = re.findall(hash_t, text5)\n",
        "print(hashtag)"
      ],
      "metadata": {
        "id": "HEoz682cmjwM",
        "outputId": "cdde1314-ae4f-472c-b815-4042616e7f15",
        "colab": {
          "base_uri": "https://localhost:8080/"
        }
      },
      "execution_count": 10,
      "outputs": [
        {
          "output_type": "stream",
          "name": "stdout",
          "text": [
            "['#updates', '#PythonTips', '#100DaysOfCode']\n"
          ]
        }
      ]
    },
    {
      "cell_type": "code",
      "source": [
        "#Split Paragraph into Sentences\n",
        "text6 = \"Hello! How are you doing? I hope you're enjoying regex. Let's practice more.\"\n",
        "sentences = r'[.!?]'\n",
        "sentence = re.split(sentences, text6)\n",
        "print(sentence)"
      ],
      "metadata": {
        "id": "1jAlHGqMmjtk",
        "outputId": "25c9fecc-c039-4733-f9e8-6d19a9f68334",
        "colab": {
          "base_uri": "https://localhost:8080/"
        }
      },
      "execution_count": 11,
      "outputs": [
        {
          "output_type": "stream",
          "name": "stdout",
          "text": [
            "['Hello', ' How are you doing', \" I hope you're enjoying regex\", \" Let's practice more\", '']\n"
          ]
        }
      ]
    },
    {
      "cell_type": "code",
      "source": [
        "#Validate Passwords\n",
        "passwords = [\"pass123\", \"Secure1\", \"12345678\", \"Password123\", \"noDigitHere\"]\n",
        "v_pass= r'^(?=.*[a-z])(?=.*[A-Z])(?=.*\\d)[a-zA-Z\\d]{8,}$'\n",
        "for password in passwords:\n",
        "    if re.match(v_pass, password):\n",
        "        print(f\"Valid password: {password}\")\n",
        "    else:\n",
        "        print(f\"Invalid password: {password}\")"
      ],
      "metadata": {
        "id": "AmtE3hGRmjqw",
        "outputId": "f1554a5d-e1c4-49d5-ad34-fd632a4a07d5",
        "colab": {
          "base_uri": "https://localhost:8080/"
        }
      },
      "execution_count": 12,
      "outputs": [
        {
          "output_type": "stream",
          "name": "stdout",
          "text": [
            "Invalid password: pass123\n",
            "Invalid password: Secure1\n",
            "Invalid password: 12345678\n",
            "Valid password: Password123\n",
            "Invalid password: noDigitHere\n"
          ]
        }
      ]
    },
    {
      "cell_type": "code",
      "source": [
        "#Remove HTML Tags\n",
        "html_text = \"<div><h1>Welcome</h1><p>This is a <b>test</b> string.</p></div>\"\n",
        "clean_text = r'<[^>]+>'\n",
        "text = re.sub(clean_text, '', html_text)\n",
        "print(text)"
      ],
      "metadata": {
        "id": "OQqrV1JGmjkb",
        "outputId": "c9f7794d-6bb7-44a9-d5bd-6117c383b62e",
        "colab": {
          "base_uri": "https://localhost:8080/"
        }
      },
      "execution_count": 13,
      "outputs": [
        {
          "output_type": "stream",
          "name": "stdout",
          "text": [
            "WelcomeThis is a test string.\n"
          ]
        }
      ]
    },
    {
      "cell_type": "code",
      "source": [
        "#Extract Dates\n",
        "date_text = \"Important dates: 29-06-2025, 01/01/2024, and 2024.12.31.\"\n",
        "dates = r'\\d{4}[-/.]\\d{2}[-/.]\\d{2}'\n",
        "date = re.findall(dates, date_text)\n",
        "print(date)"
      ],
      "metadata": {
        "id": "q6Dki92TmwIE",
        "outputId": "5fe8c859-e544-41ff-dec4-109a5647ca06",
        "colab": {
          "base_uri": "https://localhost:8080/"
        }
      },
      "execution_count": 14,
      "outputs": [
        {
          "output_type": "stream",
          "name": "stdout",
          "text": [
            "['2024.12.31']\n"
          ]
        }
      ]
    },
    {
      "cell_type": "code",
      "source": [
        "#Validate Dataset of User Info\n",
        "users = [\n",
        "    {\"email\": \"user1@gmail.com\", \"phone\": \"01012345678\", \"password\": \"Strong123\"},\n",
        "    {\"email\": \"fakeemail.com\", \"phone\": \"01600000000\", \"password\": \"weak\"},\n",
        "    {\"email\": \"name@domain.co\", \"phone\": \"01298765432\", \"password\": \"Pass1234\"},\n",
        "]\n",
        "v_email = r'\\b[A-Za-z0-9._%+-]+@[A-Za-z0-9.-]+\\.[A-Z|a-z]{2,}\\b'\n",
        "v_phone = r'01[0125][0-9]{8}'\n",
        "v_pass = r'^(?=.*[a-z])(?=.*[A-Z])(?=.*\\d)[a-zA-Z\\d]{8,}$'\n",
        "for user in users:\n",
        "    if re.match(v_email, user[\"email\"]) and re.match(v_phone, user[\"phone\"]) and re.match(v_pass, user[\"password\"]):\n",
        "        print(f\"Valid user: {user}\")"
      ],
      "metadata": {
        "id": "9UF4FgxcmxqE",
        "outputId": "2acf841c-51cb-4869-80fa-657833e1216f",
        "colab": {
          "base_uri": "https://localhost:8080/"
        }
      },
      "execution_count": 15,
      "outputs": [
        {
          "output_type": "stream",
          "name": "stdout",
          "text": [
            "Valid user: {'email': 'user1@gmail.com', 'phone': '01012345678', 'password': 'Strong123'}\n",
            "Valid user: {'email': 'name@domain.co', 'phone': '01298765432', 'password': 'Pass1234'}\n"
          ]
        }
      ]
    }
  ]
}