{
  "nbformat": 4,
  "nbformat_minor": 0,
  "metadata": {
    "colab": {
      "provenance": [],
      "gpuType": "T4",
      "authorship_tag": "ABX9TyNHHIpmSZLylXhTGOfjYZ0p",
      "include_colab_link": true
    },
    "kernelspec": {
      "name": "python3",
      "display_name": "Python 3"
    },
    "language_info": {
      "name": "python"
    },
    "accelerator": "GPU"
  },
  "cells": [
    {
      "cell_type": "markdown",
      "metadata": {
        "id": "view-in-github",
        "colab_type": "text"
      },
      "source": [
        "<a href=\"https://colab.research.google.com/github/AmrHassanKhalaf/Summer_Training_NLP/blob/main/Sec_7_T_1_NTI.ipynb\" target=\"_parent\"><img src=\"https://colab.research.google.com/assets/colab-badge.svg\" alt=\"Open In Colab\"/></a>"
      ]
    },
    {
      "cell_type": "code",
      "execution_count": 1,
      "metadata": {
        "colab": {
          "base_uri": "https://localhost:8080/"
        },
        "id": "07vI0uTLlvmb",
        "outputId": "fb2cb72d-0ba1-44d6-dff5-2631f36128bc"
      },
      "outputs": [
        {
          "output_type": "stream",
          "name": "stdout",
          "text": [
            "Downloading from https://www.kaggle.com/api/v1/datasets/download/muhammedfathi/arabic-news-texts-corpus?dataset_version_number=1...\n"
          ]
        },
        {
          "output_type": "stream",
          "name": "stderr",
          "text": [
            "100%|██████████| 3.59M/3.59M [00:01<00:00, 2.93MB/s]"
          ]
        },
        {
          "output_type": "stream",
          "name": "stdout",
          "text": [
            "Extracting files...\n"
          ]
        },
        {
          "output_type": "stream",
          "name": "stderr",
          "text": [
            "\n"
          ]
        },
        {
          "output_type": "stream",
          "name": "stdout",
          "text": [
            "Path to dataset files: /root/.cache/kagglehub/datasets/muhammedfathi/arabic-news-texts-corpus/versions/1\n"
          ]
        }
      ],
      "source": [
        "import kagglehub\n",
        "\n",
        "# Download latest version\n",
        "path = kagglehub.dataset_download(\"muhammedfathi/arabic-news-texts-corpus\")\n",
        "\n",
        "print(\"Path to dataset files:\", path)"
      ]
    },
    {
      "cell_type": "code",
      "source": [
        "import os\n",
        "import pandas as pd\n",
        "from sklearn.model_selection import train_test_split\n",
        "from sklearn.feature_extraction.text import TfidfVectorizer\n",
        "from sklearn.linear_model import LogisticRegression\n",
        "from sklearn.metrics import classification_report, accuracy_score\n",
        "import re"
      ],
      "metadata": {
        "id": "NQxYsFebnNwL"
      },
      "execution_count": 2,
      "outputs": []
    },
    {
      "cell_type": "code",
      "source": [
        "base_path = \"/root/.cache/kagglehub/datasets/muhammedfathi/arabic-news-texts-corpus/versions/1\"\n",
        "file_path = os.path.join(base_path, \"arabic_categorization_data.csv\")"
      ],
      "metadata": {
        "id": "s0NznFWwm8mn"
      },
      "execution_count": 3,
      "outputs": []
    },
    {
      "cell_type": "code",
      "source": [
        "df = pd.read_csv(file_path)\n",
        "print(df.head())\n"
      ],
      "metadata": {
        "colab": {
          "base_uri": "https://localhost:8080/"
        },
        "id": "XDnfgU6Cmjsd",
        "outputId": "5ab3d350-9d74-4634-9643-b3b3a968e088"
      },
      "execution_count": 4,
      "outputs": [
        {
          "output_type": "stream",
          "name": "stdout",
          "text": [
            "   Unnamed: 0                                               text     type\n",
            "0           0  \\nأشرف رئيس الجمهورية الباجي قايد السبسي اليوم...  culture\n",
            "1           1  \\nتحصل كتاب \"المصحف وقراءاته\" الذي ألفه باحثون...  culture\n",
            "2           2  \\nاستنكرت إدارة المسرح الوطني التونسي الحملة ا...  culture\n",
            "3           3  \\nاحتضن جناح تونس في القرية الدولية للأفلام بم...  culture\n",
            "4           4  \\nشهدت برلين أمس الجمعة افتتاح مسجد فريد من نو...  culture\n"
          ]
        }
      ]
    },
    {
      "cell_type": "code",
      "source": [
        "def preprocess_arabic(text):\n",
        "    text = str(text)\n",
        "    text = re.sub(r'[^\\w\\s]', ' ', text)\n",
        "    text = re.sub(r'\\d+', ' ', text)\n",
        "    text = re.sub(r'\\s+', ' ', text)\n",
        "    return text.strip()\n",
        "\n",
        "df[\"clean_text\"] = df[\"text\"].apply(preprocess_arabic)\n"
      ],
      "metadata": {
        "id": "R3nZJuJJmzWP"
      },
      "execution_count": 5,
      "outputs": []
    },
    {
      "cell_type": "code",
      "source": [
        "X_train, X_test, y_train, y_test = train_test_split(\n",
        "    df[\"clean_text\"], df[\"type\"], test_size=0.2, random_state=42, stratify=df[\"type\"]\n",
        ")"
      ],
      "metadata": {
        "id": "t3I4aIbynvjF"
      },
      "execution_count": 6,
      "outputs": []
    },
    {
      "cell_type": "code",
      "source": [
        "vectorizer = TfidfVectorizer(max_features=5000, ngram_range=(1,2))\n",
        "X_train_vec = vectorizer.fit_transform(X_train)\n",
        "X_test_vec = vectorizer.transform(X_test)"
      ],
      "metadata": {
        "id": "aW99xuMpnyln"
      },
      "execution_count": 7,
      "outputs": []
    },
    {
      "cell_type": "code",
      "source": [
        "clf = LogisticRegression(max_iter=200)\n",
        "clf.fit(X_train_vec, y_train)"
      ],
      "metadata": {
        "id": "P2b7tt2_n0e9"
      },
      "execution_count": null,
      "outputs": []
    },
    {
      "cell_type": "code",
      "source": [
        "y_pred = clf.predict(X_test_vec)\n",
        "print(\"\\n✅ Accuracy:\", accuracy_score(y_test, y_pred))\n",
        "print(classification_report(y_test, y_pred))"
      ],
      "metadata": {
        "colab": {
          "base_uri": "https://localhost:8080/"
        },
        "id": "3covFs2Cn1_g",
        "outputId": "a039aa1b-231f-4d2e-fdc0-a568880c7553"
      },
      "execution_count": 43,
      "outputs": [
        {
          "output_type": "stream",
          "name": "stdout",
          "text": [
            "\n",
            "✅ Accuracy: 0.7516875602700096\n",
            "                   precision    recall  f1-score   support\n",
            "\n",
            "          culture       0.63      0.76      0.69        25\n",
            "          diverse       0.64      0.80      0.71        95\n",
            "          economy       0.39      0.74      0.51        66\n",
            "internationalNews       0.82      0.89      0.85       251\n",
            "        localnews       0.91      0.62      0.74       964\n",
            "          politic       0.58      0.90      0.70       148\n",
            "          society       0.52      0.85      0.65       217\n",
            "            sport       0.99      0.93      0.96       291\n",
            "       technology       0.56      0.59      0.57        17\n",
            "\n",
            "         accuracy                           0.75      2074\n",
            "        macro avg       0.67      0.79      0.71      2074\n",
            "     weighted avg       0.81      0.75      0.76      2074\n",
            "\n"
          ]
        }
      ]
    },
    {
      "cell_type": "code",
      "source": [],
      "metadata": {
        "id": "_PXhgrjurKyX"
      },
      "execution_count": null,
      "outputs": []
    }
  ]
}